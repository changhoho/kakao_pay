{
 "cells": [
  {
   "cell_type": "markdown",
   "metadata": {},
   "source": [
    "## 랜덤포레스트 회귀 모델"
   ]
  },
  {
   "cell_type": "code",
   "execution_count": 86,
   "metadata": {
    "collapsed": false
   },
   "outputs": [],
   "source": [
    "%matplotlib inline\n",
    "from sklearn.model_selection import train_test_split\n",
    "from sklearn.ensemble import RandomForestRegressor\n",
    "from sklearn import metrics\n",
    "import matplotlib.pylab as plt\n",
    "import pandas as pd\n",
    "\n",
    "dataset = pd.read_csv('pre_train.csv', delimiter=',')\n",
    "X_train, X_val, y_train, y_val = train_test_split(dataset.iloc[:,:-1], dataset.iloc[:,-1], test_size=0.2, random_state=1)"
   ]
  },
  {
   "cell_type": "markdown",
   "metadata": {},
   "source": [
    "### 최적의 트래 갯수 구하기"
   ]
  },
  {
   "cell_type": "code",
   "execution_count": 75,
   "metadata": {
    "collapsed": false
   },
   "outputs": [],
   "source": [
    "\"\"\"n_estimators : The number of trees in the forest.\"\"\"\n",
    "\n",
    "\n",
    "parameters = [5*i for i in range(1, 11)]\n",
    "tr_rmse = list()\n",
    "val_rmse = list()\n",
    "model = list()\n",
    "\n",
    "for para in parameters:\n",
    "    regressor = RandomForestRegressor(n_estimators=para, random_state=0)  \n",
    "    regressor.fit(X_train, y_train)  \n",
    "    tr_pred = regressor.predict(X_train)  \n",
    "    val_pred = regressor.predict(X_val)  \n",
    "    model.append(regressor)\n",
    "    tr_rmse.append(np.sqrt(metrics.mean_squared_error(y_train, tr_pred)))\n",
    "    val_rmse.append(np.sqrt(metrics.mean_squared_error(y_val, val_pred)))\n",
    "    "
   ]
  },
  {
   "cell_type": "markdown",
   "metadata": {},
   "source": [
    "### 트리 갯수가 15개 이상일 때부터 정확도가 비슷함\n",
    "### n_estimators 는 15개로 설정"
   ]
  },
  {
   "cell_type": "code",
   "execution_count": 74,
   "metadata": {
    "collapsed": false
   },
   "outputs": [
    {
     "data": {
      "text/plain": [
       "[<matplotlib.lines.Line2D at 0x1ff7bb18470>]"
      ]
     },
     "execution_count": 74,
     "metadata": {},
     "output_type": "execute_result"
    },
    {
     "data": {
      "image/png": "[encoded data removed]",
      "text/plain": [
       "<matplotlib.figure.Figure at 0x1ff7ba9c4e0>"
      ]
     },
     "metadata": {},
     "output_type": "display_data"
    }
   ],
   "source": [
    "plt.plot(tr_rmse)\n",
    "plt.plot(val_rmse)"
   ]
  },
  {
   "cell_type": "markdown",
   "metadata": {},
   "source": [
    "### 결과 확인 및 test 예측값 저장\n",
    "### test에 대한 MSE값은 4.54"
   ]
  },
  {
   "cell_type": "code",
   "execution_count": 81,
   "metadata": {
    "collapsed": false
   },
   "outputs": [
    {
     "name": "stdout",
     "output_type": "stream",
     "text": [
      "Test_Dataset Mean_Squared_Error : 4.54791766275018\n"
     ]
    }
   ],
   "source": [
    "testset = pd.read_csv('pre_test.csv', delimiter=',')\n",
    "te_x = testset.iloc[:,:-1]\n",
    "te_y = testset.iloc[:,-1]\n",
    "te_pred = model[2].predict(te_x)  \n",
    "print('Test_Dataset Mean_Squared_Error :', np.sqrt(metrics.mean_squared_error(te_y, te_pred)))  "
   ]
  },
  {
   "cell_type": "code",
   "execution_count": 104,
   "metadata": {
    "collapsed": false
   },
   "outputs": [],
   "source": [
    "pd.DataFrame(te_pred, columns=['x']).to_csv('data/RandomForest.csv', index=False)"
   ]
  },
  {
   "cell_type": "markdown",
   "metadata": {},
   "source": [
    "### 검증데이터의 오차에 대한 분산값 계산\n",
    "### Ensenble에서 가중치로 이용"
   ]
  },
  {
   "cell_type": "code",
   "execution_count": 103,
   "metadata": {
    "collapsed": false,
    "scrolled": true
   },
   "outputs": [
    {
     "data": {
      "text/plain": [
       "18.47545246044419"
      ]
     },
     "execution_count": 103,
     "metadata": {},
     "output_type": "execute_result"
    }
   ],
   "source": [
    "np.var(model[2].predict(X_val) - y_val)"
   ]
  },
  {
   "cell_type": "code",
   "execution_count": 99,
   "metadata": {
    "collapsed": false
   },
   "outputs": [],
   "source": []
  }
 ],
 "metadata": {
  "anaconda-cloud": {},
  "kernelspec": {
   "display_name": "Python [conda env:Anaconda3]",
   "language": "python",
   "name": "conda-env-Anaconda3-py"
  },
  "language_info": {
   "codemirror_mode": {
    "name": "ipython",
    "version": 3
   },
   "file_extension": ".py",
   "mimetype": "text/x-python",
   "name": "python",
   "nbconvert_exporter": "python",
   "pygments_lexer": "ipython3",
   "version": "3.5.5"
  }
 },
 "nbformat": 4,
 "nbformat_minor": 2
}
