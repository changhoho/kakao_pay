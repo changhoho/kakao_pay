{
 "cells": [
  {
   "cell_type": "markdown",
   "metadata": {},
   "source": [
    "## 두 모델에 대한 앙상블 모델 구하기\n",
    "### 검증데이터에 예측값과 실제값과의 오차에 대한 분산값 이용\n",
    "### 분산을 역수로 취해주며 값이 높을수록 높은 가중치를 부여함\n",
    "### 해당 방법은 분산이 작을수록 모델적합도가 높다는 가정하에 진행함"
   ]
  },
  {
   "cell_type": "code",
   "execution_count": 56,
   "metadata": {
    "collapsed": false
   },
   "outputs": [],
   "source": [
    "import pandas as pd\n",
    "import numpy as np\n",
    "LR = pd.read_csv('data/LinearRegression.csv', delimiter=',')\n",
    "RF = pd.read_csv('data/RandomForest.csv', delimiter=',')\n",
    "test = pd.read_csv('data/test.csv', delimiter=',')"
   ]
  },
  {
   "cell_type": "markdown",
   "metadata": {},
   "source": [
    "### 검증데이터에 예측값과 실제값과의 오차에 대한 분산값\n",
    "### 해당값을 역수로 취해줌(값이 높을수록 가중치를 높게 부여하기 위함)"
   ]
  },
  {
   "cell_type": "code",
   "execution_count": 57,
   "metadata": {
    "collapsed": true
   },
   "outputs": [],
   "source": [
    "alpha=1/12.78 ## 선형회귀\n",
    "beta=1/18.47 ## 랜덤포레스트"
   ]
  },
  {
   "cell_type": "code",
   "execution_count": 58,
   "metadata": {
    "collapsed": false
   },
   "outputs": [],
   "source": [
    "ensemble = (alpha*LR.iloc[:,0]+ beta*RF.iloc[:,0])/(alpha+beta)"
   ]
  },
  {
   "cell_type": "code",
   "execution_count": 59,
   "metadata": {
    "collapsed": false
   },
   "outputs": [
    {
     "data": {
      "text/plain": [
       "4.473125207783047"
      ]
     },
     "execution_count": 59,
     "metadata": {},
     "output_type": "execute_result"
    }
   ],
   "source": [
    "np.sqrt(np.mean((ensemble - test.iloc[:,-1])**2))"
   ]
  },
  {
   "cell_type": "markdown",
   "metadata": {},
   "source": [
    "## 최종결과(MSE)\n",
    "### 앙상블 모델: 4.47\n",
    "### 회귀 모델 : 4.89\n",
    "### 랜덤포레스트 모델 : 4.54\n",
    "\n",
    "### 앙상블 모델을 이용하여 기존 모델보다 더 정확한 모델 생성"
   ]
  },
  {
   "cell_type": "code",
   "execution_count": null,
   "metadata": {
    "collapsed": true
   },
   "outputs": [],
   "source": []
  }
 ],
 "metadata": {
  "kernelspec": {
   "display_name": "Python [default]",
   "language": "python",
   "name": "python3"
  },
  "language_info": {
   "codemirror_mode": {
    "name": "ipython",
    "version": 3
   },
   "file_extension": ".py",
   "mimetype": "text/x-python",
   "name": "python",
   "nbconvert_exporter": "python",
   "pygments_lexer": "ipython3",
   "version": "3.5.5"
  }
 },
 "nbformat": 4,
 "nbformat_minor": 2
}
