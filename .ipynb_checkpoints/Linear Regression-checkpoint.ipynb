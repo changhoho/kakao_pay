{
 "cells": [
  {
   "cell_type": "markdown",
   "metadata": {},
   "source": [
    "## 선형회귀모델"
   ]
  },
  {
   "cell_type": "markdown",
   "metadata": {},
   "source": [
    "### 전처리된 데이터를 이용하여 선형모델 생성\n",
    "### train 데이터를 train/validataion 데이터로 분리하여 진행\n",
    "### Stepwise 방법을 이용하여 변수 선택\n",
    "### 최종 선택된 변수는 CRIM, RM, AGE, PTRATIO, LSTAT"
   ]
  },
  {
   "cell_type": "code",
   "execution_count": 166,
   "metadata": {
    "collapsed": false
   },
   "outputs": [],
   "source": [
    "dataset <- read.csv('data/pre_train.csv')\n",
    "testset <- read.csv('data/pre_test.csv')\n",
    "\n",
    "### train 데이터를 8:2의 비율로 train/validation 데이터셋으로 분리\n",
    "n <- nrow(dataset)\n",
    "ind <- sample(n, n*0.8)\n",
    "\n",
    "tr <- dataset[ind,]\n",
    "val <- dataset[-ind,]\n",
    "te <- testset"
   ]
  },
  {
   "cell_type": "markdown",
   "metadata": {},
   "source": [
    "### 회귀모델생성 및 변수 선택법 진행(stepwise)\n",
    "### validataion 데이터에 대한 MSE 값은 4.92"
   ]
  },
  {
   "cell_type": "code",
   "execution_count": 169,
   "metadata": {
    "collapsed": false
   },
   "outputs": [
    {
     "name": "stdout",
     "output_type": "stream",
     "text": [
      "[1] \"Validation_Dataset Mean_Squared_Error :  4.92\"\n"
     ]
    }
   ],
   "source": [
    "lm <- lm(MEDV~.,data=tr)\n",
    "lm_step <- step(lm, direction ='both', trace = FALSE, steps=1000)\n",
    "pr <- predict(lm_step, val)\n",
    "rmse <- sqrt(mean((pr-val[,'MEDV'])^2))\n",
    "print(paste('Validation_Dataset Mean_Squared_Error : ' , round(rmse,2)))"
   ]
  },
  {
   "cell_type": "markdown",
   "metadata": {},
   "source": [
    "### 총 5개의 변수가 선택되었으며 모두 유의미함\n",
    "### 설명력을 나타내는 Multiple R-squared, Adjusted R-squared 가 모두 0.7 이상이므로 적절한 회귀모델이 생성됨"
   ]
  },
  {
   "cell_type": "code",
   "execution_count": 153,
   "metadata": {
    "collapsed": false
   },
   "outputs": [
    {
     "data": {
      "text/plain": [
       "\n",
       "Call:\n",
       "lm(formula = MEDV ~ CRIM + RM + AGE + PTRATIO + LSTAT, data = tr)\n",
       "\n",
       "Residuals:\n",
       "     Min       1Q   Median       3Q      Max \n",
       "-18.1452  -2.5153  -0.6132   1.9794  29.8078 \n",
       "\n",
       "Coefficients:\n",
       "              Estimate Std. Error t value Pr(>|t|)    \n",
       "(Intercept)  2.716e+00  1.879e+00   1.445  0.14931    \n",
       "CRIM        -7.070e-01  2.296e-01  -3.079  0.00226 ** \n",
       "RM           3.033e-02  4.014e-03   7.555 4.27e-13 ***\n",
       "AGE          2.111e-06  1.009e-06   2.093  0.03715 *  \n",
       "PTRATIO     -6.468e-04  1.435e-04  -4.508 9.14e-06 ***\n",
       "LSTAT        5.117e+01  4.979e+00  10.278  < 2e-16 ***\n",
       "---\n",
       "Signif. codes:  0 '***' 0.001 '**' 0.01 '*' 0.05 '.' 0.1 ' ' 1\n",
       "\n",
       "Residual standard error: 4.54 on 326 degrees of freedom\n",
       "Multiple R-squared:  0.7415,\tAdjusted R-squared:  0.7375 \n",
       "F-statistic:   187 on 5 and 326 DF,  p-value: < 2.2e-16\n"
      ]
     },
     "metadata": {},
     "output_type": "display_data"
    }
   ],
   "source": [
    "summary(lm_step)"
   ]
  },
  {
   "cell_type": "markdown",
   "metadata": {},
   "source": [
    "### 최종 예측하고자 하는 test데이터셋에 적용\n",
    "### MSE값은 4.89"
   ]
  },
  {
   "cell_type": "code",
   "execution_count": 156,
   "metadata": {
    "collapsed": false
   },
   "outputs": [
    {
     "name": "stdout",
     "output_type": "stream",
     "text": [
      "[1] \"test_Dataset Mean_Squared_Error :  4.89\"\n"
     ]
    }
   ],
   "source": [
    "te_pr <- predict(lm_step, te)\n",
    "rmse <- sqrt(mean((te_pr-te[,'MEDV'])^2))\n",
    "print(paste('test_Dataset Mean_Squared_Error : ' , round(rmse,2)))"
   ]
  },
  {
   "cell_type": "markdown",
   "metadata": {},
   "source": [
    "### Ensenble에 서 이용하기 위해 결과 저장"
   ]
  },
  {
   "cell_type": "code",
   "execution_count": 171,
   "metadata": {
    "collapsed": false
   },
   "outputs": [],
   "source": [
    "write.csv(te_pr, 'data/LinearRegression.csv',row.names = FALSE)"
   ]
  },
  {
   "cell_type": "markdown",
   "metadata": {},
   "source": [
    "### 검증데이터의 오차에 대한 분산값 계산\n",
    "### Ensenble에서 가중치로 이용"
   ]
  },
  {
   "cell_type": "code",
   "execution_count": 170,
   "metadata": {
    "collapsed": false
   },
   "outputs": [
    {
     "data": {
      "text/html": [
       "24.351022546042"
      ],
      "text/latex": [
       "24.351022546042"
      ],
      "text/markdown": [
       "24.351022546042"
      ],
      "text/plain": [
       "[1] 24.35102"
      ]
     },
     "metadata": {},
     "output_type": "display_data"
    }
   ],
   "source": [
    "var(pr-val[,'MEDV'])"
   ]
  },
  {
   "cell_type": "code",
   "execution_count": null,
   "metadata": {
    "collapsed": true
   },
   "outputs": [],
   "source": []
  }
 ],
 "metadata": {
  "anaconda-cloud": {},
  "kernelspec": {
   "display_name": "R [conda env:kakao_pay]",
   "language": "R",
   "name": "conda-env-kakao_pay-r"
  },
  "language_info": {
   "codemirror_mode": "r",
   "file_extension": ".r",
   "mimetype": "text/x-r-source",
   "name": "R",
   "pygments_lexer": "r",
   "version": "3.5.1"
  }
 },
 "nbformat": 4,
 "nbformat_minor": 2
}
